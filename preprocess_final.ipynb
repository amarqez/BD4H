{
 "cells": [
  {
   "cell_type": "code",
   "execution_count": 2,
   "id": "15bc7c43-f05e-4fd2-9135-ba41027cd4ed",
   "metadata": {},
   "outputs": [
    {
     "name": "stdout",
     "output_type": "stream",
     "text": [
      "Loaded 59652 discharge summaries.\n"
     ]
    }
   ],
   "source": [
    "# Cleaned & Parallelized Preprocessing Pipeline for MIMIC-III Symptom Extraction\n",
    "import pandas as pd\n",
    "import re\n",
    "import spacy\n",
    "from scispacy.umls_linking import UmlsEntityLinker\n",
    "from tqdm import tqdm\n",
    "import matplotlib.pyplot as plt\n",
    "import multiprocessing\n",
    "\n",
    "# ----------------------------\n",
    "# Step 1: Load and Filter Discharge Summaries\n",
    "# ----------------------------\n",
    "noteevents = pd.read_csv(\"NOTEEVENTS.csv.gz\", \n",
    "                         usecols=[\"SUBJECT_ID\", \"HADM_ID\", \"CHARTDATE\", \"CATEGORY\", \"TEXT\"],\n",
    "                         compression=\"gzip\", low_memory=False)\n",
    "\n",
    "discharge_notes = noteevents[noteevents[\"CATEGORY\"] == \"Discharge summary\"].copy()\n",
    "print(f\"Loaded {len(discharge_notes)} discharge summaries.\")"
   ]
  },
  {
   "cell_type": "code",
   "execution_count": 3,
   "id": "2d231fc2-949e-44f7-b38b-61c148467559",
   "metadata": {},
   "outputs": [
    {
     "name": "stdout",
     "output_type": "stream",
     "text": [
      "Cleaned and extracted relevant sections.\n"
     ]
    }
   ],
   "source": [
    "# ----------------------------\n",
    "# Step 2: Extract Relevant Clinical Sections\n",
    "# ----------------------------\n",
    "RELEVANT_HEADERS = {\n",
    "    'HISTORY OF PRESENT ILLNESS', 'IMPRESSION', 'FINDINGS',\n",
    "    'HOSPITAL COURSE', 'PHYSICAL EXAMINATION', 'CHIEF COMPLAINT'\n",
    "}\n",
    "\n",
    "def extract_sections(text):\n",
    "    sections = {}\n",
    "    current_section = None\n",
    "    lines = text.split('\\n')\n",
    "    for line in lines:\n",
    "        line_stripped = line.strip()\n",
    "        if re.match(r'^[A-Z][A-Z \\-]*:$', line_stripped):\n",
    "            current_section = line_stripped[:-1].strip()\n",
    "            sections[current_section] = []\n",
    "        elif current_section:\n",
    "            sections[current_section].append(line_stripped)\n",
    "    kept = []\n",
    "    for key in sections:\n",
    "        if any(rel in key for rel in RELEVANT_HEADERS):\n",
    "            kept.extend(sections[key])\n",
    "    return ' '.join(kept).strip()\n",
    "\n",
    "discharge_notes[\"TEXT_CLEAN\"] = discharge_notes[\"TEXT\"].fillna(\"\").apply(extract_sections)\n",
    "discharge_notes = discharge_notes[discharge_notes[\"TEXT_CLEAN\"].str.len() > 0].copy()\n",
    "print(\"Cleaned and extracted relevant sections.\")"
   ]
  },
  {
   "cell_type": "code",
   "execution_count": 4,
   "id": "2dd6ade2-aff0-47f4-91b4-d2870d765753",
   "metadata": {},
   "outputs": [
    {
     "name": "stdout",
     "output_type": "stream",
     "text": [
      "Loading en_core_sci_lg model...\n"
     ]
    },
    {
     "name": "stderr",
     "output_type": "stream",
     "text": [
      "C:\\Users\\Allen\\anaconda3\\envs\\disease_bilstm\\lib\\site-packages\\spacy\\util.py:910: UserWarning: [W095] Model 'en_core_sci_lg' (0.5.1) was trained with spaCy v3.4.1 and may not be 100% compatible with the current version (3.7.2). If you see errors or degraded performance, download a newer compatible model or retrain your custom model with the current spaCy version. For more details and available updates, run: python -m spacy validate\n",
      "  warnings.warn(warn_msg)\n"
     ]
    },
    {
     "name": "stdout",
     "output_type": "stream",
     "text": [
      "Adding UMLS linker to pipeline...\n"
     ]
    },
    {
     "name": "stderr",
     "output_type": "stream",
     "text": [
      "C:\\Users\\Allen\\anaconda3\\envs\\disease_bilstm\\lib\\site-packages\\sklearn\\base.py:380: InconsistentVersionWarning: Trying to unpickle estimator TfidfTransformer from version 1.1.2 when using version 1.6.1. This might lead to breaking code or invalid results. Use at your own risk. For more info please refer to:\n",
      "https://scikit-learn.org/stable/model_persistence.html#security-maintainability-limitations\n",
      "  warnings.warn(\n",
      "C:\\Users\\Allen\\anaconda3\\envs\\disease_bilstm\\lib\\site-packages\\sklearn\\base.py:380: InconsistentVersionWarning: Trying to unpickle estimator TfidfVectorizer from version 1.1.2 when using version 1.6.1. This might lead to breaking code or invalid results. Use at your own risk. For more info please refer to:\n",
      "https://scikit-learn.org/stable/model_persistence.html#security-maintainability-limitations\n",
      "  warnings.warn(\n"
     ]
    },
    {
     "name": "stdout",
     "output_type": "stream",
     "text": [
      "Pipeline components: ['tok2vec', 'tagger', 'attribute_ruler', 'lemmatizer', 'parser', 'ner', 'scispacy_linker']\n"
     ]
    }
   ],
   "source": [
    "# ----------------------------\n",
    "# Step 3: Load SciSpaCy Model and UMLS Linker\n",
    "# ----------------------------\n",
    "print(\"Loading en_core_sci_lg model...\")\n",
    "nlp = spacy.load(\"en_core_sci_lg\")\n",
    "print(\"Adding UMLS linker to pipeline...\")\n",
    "nlp.add_pipe(\"scispacy_linker\", config={\"resolve_abbreviations\": True, \"linker_name\": \"umls\"})\n",
    "linker = nlp.get_pipe(\"scispacy_linker\")\n",
    "print(\"Pipeline components:\", nlp.pipe_names)"
   ]
  },
  {
   "cell_type": "code",
   "execution_count": 6,
   "id": "7ddc23a0-7e51-497b-b487-87b3208327ce",
   "metadata": {},
   "outputs": [
    {
     "name": "stdout",
     "output_type": "stream",
     "text": [
      "Running symptom extraction on all notes (parallel)...\n"
     ]
    },
    {
     "name": "stderr",
     "output_type": "stream",
     "text": [
      "100%|██████████████████████████████████████████████████████████████| 12064/12064 [37:00<00:00,  5.43it/s]"
     ]
    },
    {
     "name": "stdout",
     "output_type": "stream",
     "text": [
      "Symptom extraction complete.\n"
     ]
    },
    {
     "name": "stderr",
     "output_type": "stream",
     "text": [
      "\n"
     ]
    }
   ],
   "source": [
    "# ----------------------------\n",
    "# Step 4: Efficient UMLS Symptom Extraction (Parallel)\n",
    "# ----------------------------\n",
    "def extract_umls_symptoms(doc):\n",
    "    symptoms = set()\n",
    "    for ent in doc.ents:\n",
    "        for umls_ent in ent._.kb_ents:\n",
    "            cui_entry = linker.kb.cui_to_entity.get(umls_ent[0])\n",
    "            if cui_entry and \"T184\" in cui_entry.types:\n",
    "                symptoms.add(cui_entry.canonical_name.lower())\n",
    "    return list(symptoms)\n",
    "\n",
    "print(\"Running symptom extraction on all notes (parallel)...\")\n",
    "texts = discharge_notes[\"TEXT_CLEAN\"].tolist()\n",
    "symptom_lists = []\n",
    "\n",
    "n_cores = min(32, multiprocessing.cpu_count())\n",
    "for doc in tqdm(nlp.pipe(texts, batch_size=32, n_process=1), total=len(texts)):\n",
    "    symptom_lists.append(extract_umls_symptoms(doc))\n",
    "\n",
    "discharge_notes[\"SYMPTOMS\"] = symptom_lists\n",
    "print(\"Symptom extraction complete.\")"
   ]
  },
  {
   "cell_type": "code",
   "execution_count": 7,
   "id": "23f32dec-d938-465e-9202-64cdeded6b19",
   "metadata": {},
   "outputs": [
    {
     "name": "stdout",
     "output_type": "stream",
     "text": [
      "Loaded 651047 diagnosis entries.\n",
      "Filtered to top 50 diagnoses: 49 classes\n"
     ]
    }
   ],
   "source": [
    "# ----------------------------\n",
    "# Step 5: Load and Join with ICD-9 Labels, Filter to Top 50\n",
    "# ----------------------------\n",
    "diagnoses = pd.read_csv(\"DIAGNOSES_ICD.csv.gz\", \n",
    "                        usecols=[\"HADM_ID\", \"ICD9_CODE\"], \n",
    "                        compression=\"gzip\", low_memory=False)\n",
    "print(f\"Loaded {len(diagnoses)} diagnosis entries.\")\n",
    "\n",
    "labeled = discharge_notes.merge(diagnoses, on=\"HADM_ID\", how=\"inner\")\n",
    "top_50 = labeled[\"ICD9_CODE\"].value_counts().nlargest(50).index\n",
    "labeled_filtered = labeled[labeled[\"ICD9_CODE\"].isin(top_50)].copy()\n",
    "\n",
    "# Only keep one diagnosis per HADM_ID for classification\n",
    "labeled_filtered = labeled_filtered.sort_values([\"HADM_ID\", \"ICD9_CODE\"])\n",
    "labeled_filtered = labeled_filtered.drop_duplicates(\"HADM_ID\")\n",
    "print(f\"Filtered to top 50 diagnoses: {labeled_filtered['ICD9_CODE'].nunique()} classes\")"
   ]
  },
  {
   "cell_type": "code",
   "execution_count": 8,
   "id": "8824126b-68ba-42e3-8c9b-46e430aa15d5",
   "metadata": {},
   "outputs": [
    {
     "data": {
      "image/png": "[encoded data removed]",
      "text/plain": [
       "<Figure size 1000x400 with 1 Axes>"
      ]
     },
     "metadata": {},
     "output_type": "display_data"
    },
    {
     "name": "stdout",
     "output_type": "stream",
     "text": [
      "Saved preprocessed data to: labeled_notes_with_symptoms.csv\n"
     ]
    }
   ],
   "source": [
    "# ----------------------------\n",
    "# Step 6: Visualize and Save Output\n",
    "# ----------------------------\n",
    "diagnosis_counts = labeled_filtered[\"ICD9_CODE\"].value_counts().head(20)\n",
    "plt.figure(figsize=(10, 4))\n",
    "diagnosis_counts.plot(kind=\"bar\")\n",
    "plt.title(\"Top 20 ICD-9 Diagnoses (Filtered)\")\n",
    "plt.xlabel(\"ICD-9 Code\")\n",
    "plt.ylabel(\"Number of Admissions\")\n",
    "plt.xticks(rotation=45)\n",
    "plt.tight_layout()\n",
    "plt.show()\n",
    "\n",
    "output_path = \"labeled_notes_with_symptoms.csv\"\n",
    "labeled_filtered[[\"HADM_ID\", \"SYMPTOMS\", \"ICD9_CODE\"]].to_csv(output_path, index=False)\n",
    "print(f\"Saved preprocessed data to: {output_path}\")"
   ]
  }
 ],
 "metadata": {
  "kernelspec": {
   "display_name": "Python 3 (ipykernel)",
   "language": "python",
   "name": "python3"
  },
  "language_info": {
   "codemirror_mode": {
    "name": "ipython",
    "version": 3
   },
   "file_extension": ".py",
   "mimetype": "text/x-python",
   "name": "python",
   "nbconvert_exporter": "python",
   "pygments_lexer": "ipython3",
   "version": "3.10.16"
  }
 },
 "nbformat": 4,
 "nbformat_minor": 5
}
