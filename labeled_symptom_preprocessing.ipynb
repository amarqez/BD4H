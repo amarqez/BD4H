{
 "cells": [
  {
   "cell_type": "code",
   "id": "0b88eb5c",
   "metadata": {
    "ExecuteTime": {
     "end_time": "2025-04-19T21:36:40.231399Z",
     "start_time": "2025-04-19T21:33:37.975283Z"
    }
   },
   "source": [
    "# Task 1–3: Preprocess MIMIC-III Notes and Attach Disease Labels\n",
    "\n",
    "import pandas as pd\n",
    "import re\n",
    "\n",
    "# Step 1: Load and filter discharge summaries from NOTEEVENTS.csv.gz\n",
    "noteevents = pd.read_csv(\"NOTEEVENTS.csv.gz\", \n",
    "                         usecols=[\"SUBJECT_ID\", \"HADM_ID\", \"CHARTDATE\", \"CATEGORY\", \"TEXT\"],\n",
    "                         compression=\"gzip\", low_memory=False)\n",
    "\n",
    "discharge_notes = noteevents[noteevents[\"CATEGORY\"] == \"Discharge summary\"].copy()\n",
    "\n",
    "# Step 2: Extract relevant clinical sections\n",
    "RELEVANT_HEADERS = {\n",
    "    'HISTORY OF PRESENT ILLNESS', 'IMPRESSION', 'FINDINGS',\n",
    "    'HOSPITAL COURSE', 'PHYSICAL EXAMINATION', 'CHIEF COMPLAINT'\n",
    "}\n",
    "\n",
    "def extract_sections(text):\n",
    "    sections = {}\n",
    "    current_section = None\n",
    "    lines = text.split('\\n')\n",
    "\n",
    "    for line in lines:\n",
    "        line_stripped = line.strip()\n",
    "        if re.match(r'^[A-Z][A-Z \\-]*:$', line_stripped):\n",
    "            current_section = line_stripped[:-1].strip()\n",
    "            sections[current_section] = []\n",
    "        elif current_section:\n",
    "            sections[current_section].append(line_stripped)\n",
    "\n",
    "    kept = []\n",
    "    for key in sections:\n",
    "        if any(rel in key for rel in RELEVANT_HEADERS):\n",
    "            kept.extend(sections[key])\n",
    "    return ' '.join(kept).strip()\n",
    "\n",
    "discharge_notes[\"TEXT_CLEAN\"] = discharge_notes[\"TEXT\"].fillna(\"\").apply(extract_sections)\n",
    "\n",
    "# Step 3: Symptom extraction from cleaned text\n",
    "SYMPTOM_LIST = ['fever', 'cough', 'fatigue', 'headache', 'nausea', 'vomiting', \n",
    "                'dizziness', 'chest pain', 'shortness of breath']\n",
    "\n",
    "def extract_symptoms(text):\n",
    "    text = text.lower()\n",
    "    return [s for s in SYMPTOM_LIST if s in text]\n",
    "\n",
    "discharge_notes[\"SYMPTOMS\"] = discharge_notes[\"TEXT_CLEAN\"].apply(extract_symptoms)\n",
    "\n",
    "# Step 4: Merge with diagnoses from DIAGNOSES_ICD.csv.gz\n",
    "diagnoses = pd.read_csv(\"DIAGNOSES_ICD.csv.gz\", \n",
    "                        usecols=[\"HADM_ID\", \"ICD9_CODE\"], \n",
    "                        compression=\"gzip\", low_memory=False)\n",
    "\n",
    "labeled = discharge_notes.merge(diagnoses, on=\"HADM_ID\", how=\"inner\")\n",
    "\n",
    "# Step 5 (Optional): Keep only top 50 diagnoses\n",
    "top_diagnoses = labeled[\"ICD9_CODE\"].value_counts().nlargest(50).index\n",
    "labeled_filtered = labeled[labeled[\"ICD9_CODE\"].isin(top_diagnoses)].copy()\n",
    "\n",
    "# Save processed data for modeling\n",
    "labeled_filtered.to_csv(\"labeled_notes_with_symptoms.csv\", index=False)\n",
    "print(\"✅ Labeled data saved to 'labeled_notes_with_symptoms.csv'\")"
   ],
   "outputs": [
    {
     "name": "stdout",
     "output_type": "stream",
     "text": [
      "✅ Labeled data saved to 'labeled_notes_with_symptoms.csv'\n"
     ]
    }
   ],
   "execution_count": 2
  },
  {
   "metadata": {},
   "cell_type": "code",
   "outputs": [],
   "execution_count": null,
   "source": "",
   "id": "91279b5535a2df86"
  }
 ],
 "metadata": {
  "kernelspec": {
   "name": "python3",
   "language": "python",
   "display_name": "Python 3 (ipykernel)"
  }
 },
 "nbformat": 4,
 "nbformat_minor": 5
}
